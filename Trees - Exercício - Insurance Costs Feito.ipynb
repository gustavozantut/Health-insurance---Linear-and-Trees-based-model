{
 "cells": [
  {
   "cell_type": "markdown",
   "metadata": {},
   "source": [
    "# Modelos lineares e Modelos baseados em Árvores\n",
    "\n",
    "## Introdução\n",
    "Empresas de seguro saúde e planos de saúde possuem bases de clientes bastante heterogênias ao mesmo tempo em que devem minimizar as perdas com clientes que demandam muitos tratamentos ou tratamentos muito caros. Neste contexto, essas empresas tentam estimar qual os custos que cada paciente possivelmente vai gerar, afim de ajustar os custos de mensalidade e outras taxas, por exemplo.\n",
    "\n",
    "Nesse contexto a base de dados [Medical Cost Personal Datasets](https://www.kaggle.com/mirichoi0218/insurance?select=insurance.csv) permite uma análise dos custos médicos de diversos pacientes.\n",
    "\n"
   ]
  },
  {
   "cell_type": "markdown",
   "metadata": {},
   "source": [
    "## Imports"
   ]
  },
  {
   "cell_type": "code",
   "execution_count": 11,
   "metadata": {},
   "outputs": [],
   "source": [
    "import numpy as np\n",
    "import pandas as pd\n",
    "import matplotlib.pyplot as plt\n",
    "from sklearn.model_selection import train_test_split, RandomizedSearchCV\n",
    "from sklearn.ensemble import RandomForestRegressor \n",
    "from sklearn.metrics import mean_absolute_error, mean_squared_error, r2_score\n",
    "from sklearn.pipeline import make_pipeline\n",
    "from sklearn.compose import make_column_transformer\n",
    "from sklearn.preprocessing import OneHotEncoder, OrdinalEncoder, StandardScaler\n",
    "from sklearn.linear_model import LinearRegression, Lasso"
   ]
  },
  {
   "cell_type": "markdown",
   "metadata": {},
   "source": [
    "## Medical Cost Personel\n",
    "### Read"
   ]
  },
  {
   "cell_type": "code",
   "execution_count": 12,
   "metadata": {},
   "outputs": [
    {
     "data": {
      "text/html": [
       "<div>\n",
       "<style scoped>\n",
       "    .dataframe tbody tr th:only-of-type {\n",
       "        vertical-align: middle;\n",
       "    }\n",
       "\n",
       "    .dataframe tbody tr th {\n",
       "        vertical-align: top;\n",
       "    }\n",
       "\n",
       "    .dataframe thead th {\n",
       "        text-align: right;\n",
       "    }\n",
       "</style>\n",
       "<table border=\"1\" class=\"dataframe\">\n",
       "  <thead>\n",
       "    <tr style=\"text-align: right;\">\n",
       "      <th></th>\n",
       "      <th>age</th>\n",
       "      <th>sex</th>\n",
       "      <th>bmi</th>\n",
       "      <th>children</th>\n",
       "      <th>smoker</th>\n",
       "      <th>region</th>\n",
       "      <th>charges</th>\n",
       "    </tr>\n",
       "  </thead>\n",
       "  <tbody>\n",
       "    <tr>\n",
       "      <th>0</th>\n",
       "      <td>19</td>\n",
       "      <td>female</td>\n",
       "      <td>27.900</td>\n",
       "      <td>0</td>\n",
       "      <td>yes</td>\n",
       "      <td>southwest</td>\n",
       "      <td>16884.92400</td>\n",
       "    </tr>\n",
       "    <tr>\n",
       "      <th>1</th>\n",
       "      <td>18</td>\n",
       "      <td>male</td>\n",
       "      <td>33.770</td>\n",
       "      <td>1</td>\n",
       "      <td>no</td>\n",
       "      <td>southeast</td>\n",
       "      <td>1725.55230</td>\n",
       "    </tr>\n",
       "    <tr>\n",
       "      <th>2</th>\n",
       "      <td>28</td>\n",
       "      <td>male</td>\n",
       "      <td>33.000</td>\n",
       "      <td>3</td>\n",
       "      <td>no</td>\n",
       "      <td>southeast</td>\n",
       "      <td>4449.46200</td>\n",
       "    </tr>\n",
       "    <tr>\n",
       "      <th>3</th>\n",
       "      <td>33</td>\n",
       "      <td>male</td>\n",
       "      <td>22.705</td>\n",
       "      <td>0</td>\n",
       "      <td>no</td>\n",
       "      <td>northwest</td>\n",
       "      <td>21984.47061</td>\n",
       "    </tr>\n",
       "    <tr>\n",
       "      <th>4</th>\n",
       "      <td>32</td>\n",
       "      <td>male</td>\n",
       "      <td>28.880</td>\n",
       "      <td>0</td>\n",
       "      <td>no</td>\n",
       "      <td>northwest</td>\n",
       "      <td>3866.85520</td>\n",
       "    </tr>\n",
       "  </tbody>\n",
       "</table>\n",
       "</div>"
      ],
      "text/plain": [
       "   age     sex     bmi  children smoker     region      charges\n",
       "0   19  female  27.900         0    yes  southwest  16884.92400\n",
       "1   18    male  33.770         1     no  southeast   1725.55230\n",
       "2   28    male  33.000         3     no  southeast   4449.46200\n",
       "3   33    male  22.705         0     no  northwest  21984.47061\n",
       "4   32    male  28.880         0     no  northwest   3866.85520"
      ]
     },
     "metadata": {},
     "output_type": "display_data"
    },
    {
     "name": "stdout",
     "output_type": "stream",
     "text": [
      "Dataframe shape: (1338, 7)\n"
     ]
    }
   ],
   "source": [
    "X = pd.read_csv('health_insurance_costs.csv')\n",
    "display(X.head())\n",
    "print(f'Dataframe shape: {X.shape}')"
   ]
  },
  {
   "cell_type": "markdown",
   "metadata": {},
   "source": [
    "### Feature Engineering\n"
   ]
  },
  {
   "cell_type": "code",
   "execution_count": 13,
   "metadata": {},
   "outputs": [
    {
     "name": "stdout",
     "output_type": "stream",
     "text": [
      "Features data shape: (1338, 6)\n",
      "Target data shape: (1338,)\n"
     ]
    }
   ],
   "source": [
    "y = X.charges\n",
    "X.drop(['charges'], inplace=True, axis=1)\n",
    "print(f'Features data shape: {X.shape}')\n",
    "print(f'Target data shape: {y.shape}')"
   ]
  },
  {
   "cell_type": "code",
   "execution_count": 14,
   "metadata": {},
   "outputs": [
    {
     "data": {
      "text/html": [
       "<div>\n",
       "<style scoped>\n",
       "    .dataframe tbody tr th:only-of-type {\n",
       "        vertical-align: middle;\n",
       "    }\n",
       "\n",
       "    .dataframe tbody tr th {\n",
       "        vertical-align: top;\n",
       "    }\n",
       "\n",
       "    .dataframe thead th {\n",
       "        text-align: right;\n",
       "    }\n",
       "</style>\n",
       "<table border=\"1\" class=\"dataframe\">\n",
       "  <thead>\n",
       "    <tr style=\"text-align: right;\">\n",
       "      <th></th>\n",
       "      <th>age</th>\n",
       "      <th>sex</th>\n",
       "      <th>bmi</th>\n",
       "      <th>children</th>\n",
       "      <th>smoker</th>\n",
       "      <th>region</th>\n",
       "    </tr>\n",
       "  </thead>\n",
       "  <tbody>\n",
       "    <tr>\n",
       "      <th>1017</th>\n",
       "      <td>26</td>\n",
       "      <td>female</td>\n",
       "      <td>34.200</td>\n",
       "      <td>2</td>\n",
       "      <td>no</td>\n",
       "      <td>southwest</td>\n",
       "    </tr>\n",
       "    <tr>\n",
       "      <th>1056</th>\n",
       "      <td>48</td>\n",
       "      <td>female</td>\n",
       "      <td>28.900</td>\n",
       "      <td>0</td>\n",
       "      <td>no</td>\n",
       "      <td>southwest</td>\n",
       "    </tr>\n",
       "    <tr>\n",
       "      <th>254</th>\n",
       "      <td>50</td>\n",
       "      <td>male</td>\n",
       "      <td>31.825</td>\n",
       "      <td>0</td>\n",
       "      <td>yes</td>\n",
       "      <td>northeast</td>\n",
       "    </tr>\n",
       "    <tr>\n",
       "      <th>131</th>\n",
       "      <td>61</td>\n",
       "      <td>female</td>\n",
       "      <td>22.040</td>\n",
       "      <td>0</td>\n",
       "      <td>no</td>\n",
       "      <td>northeast</td>\n",
       "    </tr>\n",
       "    <tr>\n",
       "      <th>5</th>\n",
       "      <td>31</td>\n",
       "      <td>female</td>\n",
       "      <td>25.740</td>\n",
       "      <td>0</td>\n",
       "      <td>no</td>\n",
       "      <td>southeast</td>\n",
       "    </tr>\n",
       "  </tbody>\n",
       "</table>\n",
       "</div>"
      ],
      "text/plain": [
       "      age     sex     bmi  children smoker     region\n",
       "1017   26  female  34.200         2     no  southwest\n",
       "1056   48  female  28.900         0     no  southwest\n",
       "254    50    male  31.825         0    yes  northeast\n",
       "131    61  female  22.040         0     no  northeast\n",
       "5      31  female  25.740         0     no  southeast"
      ]
     },
     "execution_count": 14,
     "metadata": {},
     "output_type": "execute_result"
    }
   ],
   "source": [
    "X_train, X_test, y_train, y_test = train_test_split(X, y, test_size=0.2)\n",
    "X_train.head()"
   ]
  },
  {
   "cell_type": "markdown",
   "metadata": {},
   "source": [
    "### Pipeline"
   ]
  },
  {
   "cell_type": "code",
   "execution_count": 15,
   "metadata": {},
   "outputs": [
    {
     "name": "stdout",
     "output_type": "stream",
     "text": [
      "OneHotEncoder(categories='auto', drop=None, dtype=<class 'numpy.float64'>,\n",
      "              handle_unknown='ignore', sparse=True)\n"
     ]
    },
    {
     "data": {
      "text/plain": [
       "Pipeline(memory=None,\n",
       "         steps=[('columntransformer',\n",
       "                 ColumnTransformer(n_jobs=None, remainder='drop',\n",
       "                                   sparse_threshold=0.3,\n",
       "                                   transformer_weights=None,\n",
       "                                   transformers=[('standardscaler',\n",
       "                                                  StandardScaler(copy=True,\n",
       "                                                                 with_mean=True,\n",
       "                                                                 with_std=True),\n",
       "                                                  ['age', 'bmi', 'children']),\n",
       "                                                 ('onehotencoder',\n",
       "                                                  OneHotEncoder(categories='auto',\n",
       "                                                                drop=None,\n",
       "                                                                dtype=<class 'numpy.float64'>,\n",
       "                                                                handle_unknown='ignore',\n",
       "                                                                sparse=True),\n",
       "                                                  ['sex', 'smoker', 'region'])],\n",
       "                                   verbose=False)),\n",
       "                ('linearregression',\n",
       "                 LinearRegression(copy_X=True, fit_intercept=True, n_jobs=None,\n",
       "                                  normalize=False))],\n",
       "         verbose=False)"
      ]
     },
     "metadata": {},
     "output_type": "display_data"
    },
    {
     "name": "stdout",
     "output_type": "stream",
     "text": [
      "Training scores\n",
      "mae: 4315.472394343128\n",
      "mse: 38084532.6721839\n",
      "R2: 0.7405029511662911\n",
      "\n",
      "Performance no grupo de Teste:\n",
      "mae: 3905.0677705973485\n",
      "mse: 30478703.054930296\n",
      "R2: 0.7905241502570153\n",
      "\n",
      "OrdinalEncoder(categories='auto', dtype=<class 'numpy.float64'>)\n"
     ]
    },
    {
     "data": {
      "text/plain": [
       "Pipeline(memory=None,\n",
       "         steps=[('columntransformer',\n",
       "                 ColumnTransformer(n_jobs=None, remainder='drop',\n",
       "                                   sparse_threshold=0.3,\n",
       "                                   transformer_weights=None,\n",
       "                                   transformers=[('standardscaler',\n",
       "                                                  StandardScaler(copy=True,\n",
       "                                                                 with_mean=True,\n",
       "                                                                 with_std=True),\n",
       "                                                  ['age', 'bmi', 'children']),\n",
       "                                                 ('ordinalencoder',\n",
       "                                                  OrdinalEncoder(categories='auto',\n",
       "                                                                 dtype=<class 'numpy.float64'>),\n",
       "                                                  ['sex', 'smoker', 'region'])],\n",
       "                                   verbose=False)),\n",
       "                ('linearregression',\n",
       "                 LinearRegression(copy_X=True, fit_intercept=True, n_jobs=None,\n",
       "                                  normalize=False))],\n",
       "         verbose=False)"
      ]
     },
     "metadata": {},
     "output_type": "display_data"
    },
    {
     "name": "stdout",
     "output_type": "stream",
     "text": [
      "Training scores\n",
      "mae: 4322.09255120676\n",
      "mse: 38146075.11371107\n",
      "R2: 0.7400836186752824\n",
      "\n",
      "Performance no grupo de Teste:\n",
      "mae: 3884.4834774964384\n",
      "mse: 30291316.70287996\n",
      "R2: 0.7918120303631745\n",
      "\n"
     ]
    }
   ],
   "source": [
    "#Linear------------------------------------------\n",
    "encoders = [OneHotEncoder(handle_unknown='ignore'), OrdinalEncoder()]\n",
    "\n",
    "for encoder in encoders:\n",
    "    print(encoder)\n",
    "    \n",
    "    num_features = list(X_train.select_dtypes(include=['number']).columns)\n",
    "    cat_features = list(X_train.select_dtypes(exclude=['number']).columns)\n",
    "    \n",
    "    preprocessor = make_column_transformer((StandardScaler(), num_features),\n",
    "                                           (encoder, cat_features))\n",
    "\n",
    "    ln_reg = make_pipeline(preprocessor, LinearRegression())\n",
    "    #set_config(display='diagram')\n",
    "    #set_config()\n",
    "    display(ln_reg)\n",
    "    \n",
    "    ln_reg.fit(X_train, y_train)\n",
    "\n",
    "    y_pred = ln_reg.predict(X_test)\n",
    "\n",
    "\n",
    "    print('Training scores')\n",
    "    y_hat = ln_reg.predict(X_train)\n",
    "    mae = mean_absolute_error(y_train, y_hat)\n",
    "    print('mae:', mae)\n",
    "    mse = mean_squared_error(y_train, y_hat)\n",
    "    print('mse:', mse)\n",
    "    r2 = r2_score(y_train, y_hat)\n",
    "    print('R2:', r2)\n",
    "\n",
    "    print(\"\\nPerformance no grupo de Teste:\")\n",
    "    mae = mean_absolute_error(y_test, y_pred)\n",
    "    print('mae:', mae)\n",
    "    mse = mean_squared_error(y_test, y_pred)\n",
    "    print('mse:', mse)\n",
    "    r2 = r2_score(y_test, y_pred)\n",
    "    print('R2:', r2)\n",
    "    print()"
   ]
  },
  {
   "cell_type": "code",
   "execution_count": 16,
   "metadata": {},
   "outputs": [
    {
     "name": "stdout",
     "output_type": "stream",
     "text": [
      "OneHotEncoder(categories='auto', drop=None, dtype=<class 'numpy.float64'>,\n",
      "              handle_unknown='ignore', sparse=True)\n"
     ]
    },
    {
     "data": {
      "text/plain": [
       "Pipeline(memory=None,\n",
       "         steps=[('columntransformer',\n",
       "                 ColumnTransformer(n_jobs=None, remainder='drop',\n",
       "                                   sparse_threshold=0.3,\n",
       "                                   transformer_weights=None,\n",
       "                                   transformers=[('standardscaler',\n",
       "                                                  StandardScaler(copy=True,\n",
       "                                                                 with_mean=True,\n",
       "                                                                 with_std=True),\n",
       "                                                  ['age', 'bmi', 'children']),\n",
       "                                                 ('onehotencoder',\n",
       "                                                  OneHotEncoder(categories='auto',\n",
       "                                                                drop=None,\n",
       "                                                                dtype=<class 'numpy.float64'>,\n",
       "                                                                handle_unknown='ignore',\n",
       "                                                                sparse=True),\n",
       "                                                  ['sex', 'smoker', 'region'])],\n",
       "                                   verbose=False)),\n",
       "                ('lasso',\n",
       "                 Lasso(alpha=15, copy_X=True, fit_intercept=True, max_iter=1000,\n",
       "                       normalize=False, positive=False, precompute=False,\n",
       "                       random_state=None, selection='cyclic', tol=0.0001,\n",
       "                       warm_start=False))],\n",
       "         verbose=False)"
      ]
     },
     "metadata": {},
     "output_type": "display_data"
    },
    {
     "name": "stdout",
     "output_type": "stream",
     "text": [
      "Training scores\n",
      "mae: 4316.925550350082\n",
      "mse: 38091863.30318281\n",
      "R2: 0.7404530023556628\n",
      "\n",
      "Performance no grupo de Teste:\n",
      "mae: 3908.2971518459517\n",
      "mse: 30491400.807289224\n",
      "R2: 0.7904368803866267\n",
      "\n",
      "OrdinalEncoder(categories='auto', dtype=<class 'numpy.float64'>)\n"
     ]
    },
    {
     "data": {
      "text/plain": [
       "Pipeline(memory=None,\n",
       "         steps=[('columntransformer',\n",
       "                 ColumnTransformer(n_jobs=None, remainder='drop',\n",
       "                                   sparse_threshold=0.3,\n",
       "                                   transformer_weights=None,\n",
       "                                   transformers=[('standardscaler',\n",
       "                                                  StandardScaler(copy=True,\n",
       "                                                                 with_mean=True,\n",
       "                                                                 with_std=True),\n",
       "                                                  ['age', 'bmi', 'children']),\n",
       "                                                 ('ordinalencoder',\n",
       "                                                  OrdinalEncoder(categories='auto',\n",
       "                                                                 dtype=<class 'numpy.float64'>),\n",
       "                                                  ['sex', 'smoker', 'region'])],\n",
       "                                   verbose=False)),\n",
       "                ('lasso',\n",
       "                 Lasso(alpha=15, copy_X=True, fit_intercept=True, max_iter=1000,\n",
       "                       normalize=False, positive=False, precompute=False,\n",
       "                       random_state=None, selection='cyclic', tol=0.0001,\n",
       "                       warm_start=False))],\n",
       "         verbose=False)"
      ]
     },
     "metadata": {},
     "output_type": "display_data"
    },
    {
     "name": "stdout",
     "output_type": "stream",
     "text": [
      "Training scores\n",
      "mae: 4324.659835355802\n",
      "mse: 38149449.39958611\n",
      "R2: 0.7400606272621009\n",
      "\n",
      "Performance no grupo de Teste:\n",
      "mae: 3887.7710550184684\n",
      "mse: 30301702.76624226\n",
      "R2: 0.7917406484069154\n",
      "\n"
     ]
    }
   ],
   "source": [
    "#Lasso------------------------------------------\n",
    "encoders = [OneHotEncoder(handle_unknown='ignore'), OrdinalEncoder()]\n",
    "\n",
    "for encoder in encoders:\n",
    "    print(encoder)\n",
    "    \n",
    "    num_features = list(X_train.select_dtypes(include=['number']).columns)\n",
    "    cat_features = list(X_train.select_dtypes(exclude=['number']).columns)\n",
    "    \n",
    "    preprocessor = make_column_transformer((StandardScaler(), num_features),\n",
    "                                           (encoder, cat_features))\n",
    "\n",
    "    ls_reg = make_pipeline(preprocessor, Lasso(alpha=15))\n",
    "    #set_config(display='diagram')\n",
    "    #set_config()\n",
    "    display(ls_reg)\n",
    "    \n",
    "    ls_reg.fit(X_train, y_train)\n",
    "\n",
    "    y_pred = ls_reg.predict(X_test)\n",
    "\n",
    "\n",
    "    print('Training scores')\n",
    "    y_hat = ls_reg.predict(X_train)\n",
    "    mae = mean_absolute_error(y_train, y_hat)\n",
    "    print('mae:', mae)\n",
    "    mse = mean_squared_error(y_train, y_hat)\n",
    "    print('mse:', mse)\n",
    "    r2 = r2_score(y_train, y_hat)\n",
    "    print('R2:', r2)\n",
    "\n",
    "    print(\"\\nPerformance no grupo de Teste:\")\n",
    "    mae = mean_absolute_error(y_test, y_pred)\n",
    "    print('mae:', mae)\n",
    "    mse = mean_squared_error(y_test, y_pred)\n",
    "    print('mse:', mse)\n",
    "    r2 = r2_score(y_test, y_pred)\n",
    "    print('R2:', r2)\n",
    "    print()"
   ]
  },
  {
   "cell_type": "code",
   "execution_count": 18,
   "metadata": {},
   "outputs": [
    {
     "name": "stdout",
     "output_type": "stream",
     "text": [
      "OneHotEncoder(categories='auto', drop=None, dtype=<class 'numpy.float64'>,\n",
      "              handle_unknown='ignore', sparse=True)\n"
     ]
    },
    {
     "data": {
      "text/plain": [
       "Pipeline(memory=None,\n",
       "         steps=[('columntransformer',\n",
       "                 ColumnTransformer(n_jobs=None, remainder='drop',\n",
       "                                   sparse_threshold=0.3,\n",
       "                                   transformer_weights=None,\n",
       "                                   transformers=[('standardscaler',\n",
       "                                                  StandardScaler(copy=True,\n",
       "                                                                 with_mean=True,\n",
       "                                                                 with_std=True),\n",
       "                                                  ['age', 'bmi', 'children']),\n",
       "                                                 ('onehotencoder',\n",
       "                                                  OneHotEncoder(categories='auto',\n",
       "                                                                drop=None,\n",
       "                                                                dtype=<class 'numpy.float64'>,\n",
       "                                                                handle_...\n",
       "                 RandomForestRegressor(bootstrap=True, ccp_alpha=0.0,\n",
       "                                       criterion='mse', max_depth=None,\n",
       "                                       max_features='auto', max_leaf_nodes=None,\n",
       "                                       max_samples=None,\n",
       "                                       min_impurity_decrease=0.0,\n",
       "                                       min_impurity_split=None,\n",
       "                                       min_samples_leaf=1, min_samples_split=2,\n",
       "                                       min_weight_fraction_leaf=0.0,\n",
       "                                       n_estimators=100, n_jobs=None,\n",
       "                                       oob_score=False, random_state=None,\n",
       "                                       verbose=0, warm_start=False))],\n",
       "         verbose=False)"
      ]
     },
     "metadata": {},
     "output_type": "display_data"
    },
    {
     "name": "stdout",
     "output_type": "stream",
     "text": [
      "Training scores\n",
      "mae: 1035.114360182654\n",
      "mse: 3687318.7744162623\n",
      "R2: 0.9748756707005883\n",
      "\n",
      "Performance no grupo de Teste:\n",
      "mae: 2554.500657331069\n",
      "mse: 18179821.66382873\n",
      "R2: 0.8750526364477172\n",
      "\n",
      "OrdinalEncoder(categories='auto', dtype=<class 'numpy.float64'>)\n"
     ]
    },
    {
     "data": {
      "text/plain": [
       "Pipeline(memory=None,\n",
       "         steps=[('columntransformer',\n",
       "                 ColumnTransformer(n_jobs=None, remainder='drop',\n",
       "                                   sparse_threshold=0.3,\n",
       "                                   transformer_weights=None,\n",
       "                                   transformers=[('standardscaler',\n",
       "                                                  StandardScaler(copy=True,\n",
       "                                                                 with_mean=True,\n",
       "                                                                 with_std=True),\n",
       "                                                  ['age', 'bmi', 'children']),\n",
       "                                                 ('ordinalencoder',\n",
       "                                                  OrdinalEncoder(categories='auto',\n",
       "                                                                 dtype=<class 'numpy.float64'>),\n",
       "                                                  ['sex', 'smoker...\n",
       "                 RandomForestRegressor(bootstrap=True, ccp_alpha=0.0,\n",
       "                                       criterion='mse', max_depth=None,\n",
       "                                       max_features='auto', max_leaf_nodes=None,\n",
       "                                       max_samples=None,\n",
       "                                       min_impurity_decrease=0.0,\n",
       "                                       min_impurity_split=None,\n",
       "                                       min_samples_leaf=1, min_samples_split=2,\n",
       "                                       min_weight_fraction_leaf=0.0,\n",
       "                                       n_estimators=100, n_jobs=None,\n",
       "                                       oob_score=False, random_state=None,\n",
       "                                       verbose=0, warm_start=False))],\n",
       "         verbose=False)"
      ]
     },
     "metadata": {},
     "output_type": "display_data"
    },
    {
     "name": "stdout",
     "output_type": "stream",
     "text": [
      "Training scores\n",
      "mae: 1051.9666360276933\n",
      "mse: 3683644.407220656\n",
      "R2: 0.9749007067815559\n",
      "\n",
      "Performance no grupo de Teste:\n",
      "mae: 2668.504528587506\n",
      "mse: 18925418.105996482\n",
      "R2: 0.8699282567125641\n",
      "\n"
     ]
    }
   ],
   "source": [
    "#RandomForestRegressor------------------------------------------\n",
    "encoders = [OneHotEncoder(handle_unknown='ignore'), OrdinalEncoder()]\n",
    "\n",
    "for encoder in encoders:\n",
    "    print(encoder)\n",
    "    \n",
    "    num_features = list(X_train.select_dtypes(include=['number']).columns)\n",
    "    cat_features = list(X_train.select_dtypes(exclude=['number']).columns)\n",
    "    \n",
    "    preprocessor = make_column_transformer((StandardScaler(), num_features),\n",
    "                                           (encoder, cat_features))\n",
    "\n",
    "    reg = make_pipeline(preprocessor, RandomForestRegressor())\n",
    "    #set_config(display='diagram')\n",
    "    #set_config()\n",
    "    display(reg)\n",
    "    \n",
    "    reg.fit(X_train, y_train)\n",
    "\n",
    "    y_pred = reg.predict(X_test)\n",
    "\n",
    "    print('Training scores')\n",
    "    y_hat = reg.predict(X_train)\n",
    "    mae = mean_absolute_error(y_train, y_hat)\n",
    "    print('mae:', mae)\n",
    "    mse = mean_squared_error(y_train, y_hat)\n",
    "    print('mse:', mse)\n",
    "    r2 = r2_score(y_train, y_hat)\n",
    "    print('R2:', r2)\n",
    "\n",
    "    print(\"\\nPerformance no grupo de Teste:\")\n",
    "    mae = mean_absolute_error(y_test, y_pred)\n",
    "    print('mae:', mae)\n",
    "    mse = mean_squared_error(y_test, y_pred)\n",
    "    print('mse:', mse)\n",
    "    r2 = r2_score(y_test, y_pred)\n",
    "    print('R2:', r2)\n",
    "    print()"
   ]
  },
  {
   "cell_type": "code",
   "execution_count": 19,
   "metadata": {},
   "outputs": [
    {
     "name": "stdout",
     "output_type": "stream",
     "text": [
      "Feature ranking:\n",
      "1. feature smoker (0.6038041117775581)\n",
      "2. feature sex (0.22008613902942403)\n",
      "3. feature age (0.13411778005907526)\n",
      "4. feature bmi (0.02075459190829216)\n",
      "5. feature region (0.015124365407932347)\n",
      "6. feature children (0.006113011817718147)\n"
     ]
    },
    {
     "data": {
      "image/png": "[encoded data removed]",
      "text/plain": [
       "<Figure size 432x288 with 1 Axes>"
      ]
     },
     "metadata": {
      "needs_background": "light"
     },
     "output_type": "display_data"
    }
   ],
   "source": [
    "importances = reg.named_steps['randomforestregressor'].feature_importances_\n",
    "std = np.std([tree.feature_importances_ for tree in reg.named_steps['randomforestregressor'].estimators_],\n",
    "             axis=0)\n",
    "indices = np.argsort(importances)[::-1]\n",
    "features_names = (X_train.columns)\n",
    "# Print the feature ranking\n",
    "print(\"Feature ranking:\")\n",
    "\n",
    "for f in range(X.shape[1]):\n",
    "    print(f\"{f+1}. feature {features_names[indices[f]]} ({importances[indices[f]]})\")\n",
    "\n",
    "# Plot the impurity-based feature importances of the forest\n",
    "plt.figure()\n",
    "plt.title(\"Feature importances\")\n",
    "plt.bar(range(X.shape[1]), importances[indices],\n",
    "        color=\"r\", yerr=std[indices], align=\"center\")\n",
    "plt.xticks(range(X.shape[1]), features_names[indices])\n",
    "plt.xlim([-1, X.shape[1]])\n",
    "plt.show()"
   ]
  },
  {
   "cell_type": "code",
   "execution_count": null,
   "metadata": {},
   "outputs": [],
   "source": []
  }
 ],
 "metadata": {
  "kernelspec": {
   "display_name": "Python 3",
   "language": "python",
   "name": "python3"
  },
  "language_info": {
   "codemirror_mode": {
    "name": "ipython",
    "version": 3
   },
   "file_extension": ".py",
   "mimetype": "text/x-python",
   "name": "python",
   "nbconvert_exporter": "python",
   "pygments_lexer": "ipython3",
   "version": "3.7.6"
  }
 },
 "nbformat": 4,
 "nbformat_minor": 4
}
